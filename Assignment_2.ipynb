{
  "nbformat": 4,
  "nbformat_minor": 0,
  "metadata": {
    "colab": {
      "provenance": [],
      "authorship_tag": "ABX9TyOJyKWhiwP81hqAQHmD7/9S",
      "include_colab_link": true
    },
    "kernelspec": {
      "name": "python3",
      "display_name": "Python 3"
    },
    "language_info": {
      "name": "python"
    }
  },
  "cells": [
    {
      "cell_type": "markdown",
      "metadata": {
        "id": "view-in-github",
        "colab_type": "text"
      },
      "source": [
        "<a href=\"https://colab.research.google.com/github/Rithin353/AIML_BATCH-19/blob/main/Assignment_2.ipynb\" target=\"_parent\"><img src=\"https://colab.research.google.com/assets/colab-badge.svg\" alt=\"Open In Colab\"/></a>"
      ]
    },
    {
      "cell_type": "markdown",
      "source": [
        "part--1: BFS QUEUE"
      ],
      "metadata": {
        "id": "kFmR7FaRDgZ-"
      }
    },
    {
      "cell_type": "code",
      "execution_count": null,
      "metadata": {
        "colab": {
          "base_uri": "https://localhost:8080/"
        },
        "id": "Fua33nC3DTgO",
        "outputId": "77ad93a1-0a70-4081-fc61-6415f10c20b4"
      },
      "outputs": [
        {
          "output_type": "stream",
          "name": "stdout",
          "text": [
            "the adjacency list representing the graph is:\n",
            "{0: [1, 3], 1: [0, 2, 3], 2: [4, 1, 5], 3: [4, 0, 1], 4: [2, 3, 5], 5: [4, 2], 6: []}\n",
            "BFS traversal of geaph with source 0 is :\n",
            "0-->1-->3-->2-->4-->5-->"
          ]
        }
      ],
      "source": [
        "from queue import Queue\n",
        "\n",
        "graph = {0: [1, 3], 1:[0, 2, 3], 2: [4 , 1 , 5], 3: [4 , 0, 1], 4: [2 , 3, 5], 5: [4 , 2], 6: []}\n",
        "print('the adjacency list representing the graph is:')\n",
        "print(graph)\n",
        "\n",
        "def bfs(graph, source):\n",
        "     Q = Queue()\n",
        "     visited_vertices = set()\n",
        "     Q.put(source)\n",
        "     visited_vertices.update({0})\n",
        "     while not Q.empty():\n",
        "          vertex = Q.get()\n",
        "          print(vertex, end=\"-->\")\n",
        "          for u in graph[vertex]:\n",
        "            if u not in visited_vertices:\n",
        "              Q.put(u)\n",
        "              visited_vertices.update({u})\n",
        "\n",
        "print(\"BFS traversal of geaph with source 0 is :\")\n",
        "bfs(graph, 0)\n"
      ]
    },
    {
      "cell_type": "markdown",
      "source": [
        "Implement DFS-Depth first search\n",
        "graph1 = {\n",
        "    'A' : ['B', 'S'],\n",
        "    'B' : ['A'],\n",
        "    'C' : ['D', 'E', 'F', 'S'],\n",
        "    'E' : ['C'],\n",
        "    'F' : ['C', 'H'],\n",
        "    'G' : ['F', 'S'],\n",
        "    'H' : ['E', 'G'],\n",
        "    'S' : ['A', 'C', 'G'],\n",
        "}"
      ],
      "metadata": {
        "id": "bQTUQslTHL0u"
      }
    },
    {
      "cell_type": "code",
      "source": [
        "graph1 = {\n",
        "    'A' : ['B', 'S'],\n",
        "    'B' : ['A'],\n",
        "    'C' : ['D', 'E', 'F', 'S'],\n",
        "    'D' : ['C'],\n",
        "    'E' : ['C', 'H'],\n",
        "    'F' : ['C', 'H'],\n",
        "    'G' : ['F', 'S'],\n",
        "    'H' : ['E', 'G'],\n",
        "    'S' : ['A', 'C', 'G'],\n",
        "}\n",
        "\n",
        "def dfs(graph, node, visited):\n",
        "  if node not in visited:\n",
        "    visited.append(node)\n",
        "    for k in graph[node]:\n",
        "      dfs(graph, k, visited)\n",
        "    return visited\n",
        "\n",
        "visited = dfs(graph1, 'D', [])\n",
        "print(visited)"
      ],
      "metadata": {
        "colab": {
          "base_uri": "https://localhost:8080/"
        },
        "id": "WzzIoaIPHLPQ",
        "outputId": "e5bce0d5-4f14-4f3a-f357-d5d94f1aef05"
      },
      "execution_count": null,
      "outputs": [
        {
          "output_type": "stream",
          "name": "stdout",
          "text": [
            "['D', 'C', 'E', 'H', 'G', 'F', 'S', 'A', 'B']\n"
          ]
        }
      ]
    }
  ]
}